{
 "cells": [
  {
   "cell_type": "code",
   "execution_count": 1,
   "id": "b3a7aafe",
   "metadata": {},
   "outputs": [],
   "source": [
    "# Import packaages for financial risk modeling\n",
    "from pylab import *\n",
    "import yfinance\n",
    "from datetime import datetime\n",
    "import datetime as dt\n",
    "import pandas_datareader as web\n",
    "from datetime import datetime\n",
    "from pandas_datareader.data import DataReader\n",
    "from datetime import date\n",
    "import pandas as pd\n",
    "import numpy as np\n",
    "import statsmodels.api as sm\n",
    "from scipy.stats import norm\n",
    "import math"
   ]
  },
  {
   "cell_type": "code",
   "execution_count": 2,
   "id": "e41a3dfb",
   "metadata": {},
   "outputs": [],
   "source": [
    "# Display options\n",
    "pd.options.display.width = 0"
   ]
  },
  {
   "cell_type": "code",
   "execution_count": 3,
   "id": "eb25ea78",
   "metadata": {},
   "outputs": [],
   "source": [
    "# Set start date\n",
    "end = datetime.now()\n",
    "start = date(2001, 1, 1)"
   ]
  },
  {
   "cell_type": "code",
   "execution_count": 4,
   "id": "0ca798f0",
   "metadata": {},
   "outputs": [],
   "source": [
    "# Set the ticker\n",
    "ticker = 'AAPL', 'AOS', 'SPY', '^FVX'"
   ]
  },
  {
   "cell_type": "code",
   "execution_count": 5,
   "id": "a8dbcf71",
   "metadata": {},
   "outputs": [
    {
     "name": "stdout",
     "output_type": "stream",
     "text": [
      "[*********************100%***********************]  4 of 4 completed\n"
     ]
    }
   ],
   "source": [
    "sec = yfinance.download(ticker, start=start, end=end)['Adj Close']\n",
    "sec = pd.DataFrame(sec)"
   ]
  },
  {
   "cell_type": "code",
   "execution_count": 6,
   "id": "0631992a",
   "metadata": {},
   "outputs": [
    {
     "name": "stdout",
     "output_type": "stream",
     "text": [
      "                AAPL       AOS        SPY   ^FVX\n",
      "Date                                            \n",
      "2001-01-02  0.226078  1.907969  85.301773  4.752\n",
      "2001-01-03  0.248876  1.978634  89.399254  4.923\n",
      "2001-01-04  0.259326  1.985700  88.436981  4.808\n"
     ]
    }
   ],
   "source": [
    "# Display result\n",
    "print(sec.head(3))"
   ]
  },
  {
   "cell_type": "code",
   "execution_count": 7,
   "id": "dc144796",
   "metadata": {},
   "outputs": [],
   "source": [
    "# Join stock dataframes together\n",
    "full_df = pd.concat([sec], axis=1).dropna()"
   ]
  },
  {
   "cell_type": "code",
   "execution_count": 8,
   "id": "769fa3cd",
   "metadata": {},
   "outputs": [
    {
     "name": "stdout",
     "output_type": "stream",
     "text": [
      "                  AAPL        AOS         SPY   ^FVX\n",
      "Date                                                \n",
      "2001-01-01    0.226078   1.907969   85.301773  4.752\n",
      "2001-02-01    0.321069   1.960338   91.339539  4.723\n",
      "2001-03-01    0.284972   2.113062   82.512207  4.628\n",
      "2001-04-02    0.328137   2.160931   75.828751  4.595\n",
      "2001-05-01    0.394098   2.203320   84.361137  4.850\n",
      "...                ...        ...         ...    ...\n",
      "2022-10-03  141.997284  50.087154  364.934204  3.883\n",
      "2022-11-01  150.171219  54.328625  382.762329  4.258\n",
      "2022-12-01  148.083893  60.179401  405.517853  3.680\n",
      "2023-01-02  124.879326  58.627155  380.820007  3.945\n",
      "2023-02-01  145.208282  69.959999  410.799988  3.495\n",
      "\n",
      "[266 rows x 4 columns]\n"
     ]
    }
   ],
   "source": [
    "# Resample the full dataframe to monthly timeframe\n",
    "monthly_df = full_df.resample('BMS').first()\n",
    "print(monthly_df)"
   ]
  },
  {
   "cell_type": "code",
   "execution_count": 9,
   "id": "8bf72e9a",
   "metadata": {},
   "outputs": [
    {
     "name": "stdout",
     "output_type": "stream",
     "text": [
      "                AAPL       AOS       SPY      ^FVX\n",
      "Date                                              \n",
      "2001-02-01  0.420168  0.027448  0.070781 -0.006103\n",
      "2001-03-01 -0.112427  0.077907 -0.096643 -0.020114\n",
      "2001-04-02  0.151469  0.022654 -0.081000 -0.007131\n",
      "2001-05-01  0.201019  0.019616  0.112522  0.055495\n",
      "2001-06-01 -0.194369 -0.109375 -0.002518  0.012784\n",
      "                AAPL       AOS       SPY      ^FVX  Intercept\n",
      "Date                                                         \n",
      "2001-02-01  0.420168  0.027448  0.070781 -0.006103          1\n",
      "2001-03-01 -0.112427  0.077907 -0.096643 -0.020114          1\n",
      "2001-04-02  0.151469  0.022654 -0.081000 -0.007131          1\n"
     ]
    }
   ],
   "source": [
    "returns = monthly_df[[key for key in dict(monthly_df.dtypes) if dict(monthly_df.dtypes)[key] in ['float64', 'int64']]].pct_change()\n",
    "returns = returns[1:]\n",
    "print(returns.head())\n",
    "returns['Intercept'] = 1\n",
    "print(returns.head(3))"
   ]
  },
  {
   "cell_type": "code",
   "execution_count": 10,
   "id": "fc2028f0",
   "metadata": {},
   "outputs": [],
   "source": [
    "# Estimating historical risk\n",
    "stockNames = ['AAPL', 'AOS']\n",
    "factorNames = ['SPY', '^FVX', 'Intercept']"
   ]
  },
  {
   "cell_type": "code",
   "execution_count": 11,
   "id": "0900aa6b",
   "metadata": {},
   "outputs": [],
   "source": [
    "stockReturns = returns[stockNames]\n",
    "factorReturns = returns[factorNames]\n",
    "weights = np.array([1.0/len(stockNames)] * len(stockNames))"
   ]
  },
  {
   "cell_type": "code",
   "execution_count": 12,
   "id": "23c369eb",
   "metadata": {},
   "outputs": [
    {
     "name": "stdout",
     "output_type": "stream",
     "text": [
      "0.005815039785997518\n"
     ]
    }
   ],
   "source": [
    "historicalTotalRisk = np.dot(np.dot(weights, stockReturns.cov()), weights.T)\n",
    "print(historicalTotalRisk)"
   ]
  },
  {
   "cell_type": "code",
   "execution_count": 13,
   "id": "5015e8f4",
   "metadata": {},
   "outputs": [
    {
     "name": "stdout",
     "output_type": "stream",
     "text": [
      "                 SPY      ^FVX  Intercept\n",
      "Date                                     \n",
      "2001-02-01  0.070781 -0.006103          1\n",
      "2001-03-01 -0.096643 -0.020114          1\n",
      "2001-04-02 -0.081000 -0.007131          1\n",
      "2001-05-01  0.112522  0.055495          1\n",
      "2001-06-01 -0.002518  0.012784          1\n"
     ]
    }
   ],
   "source": [
    "# Building Factor Models\n",
    "xData = factorReturns\n",
    "print(xData.head())"
   ]
  },
  {
   "cell_type": "code",
   "execution_count": 14,
   "id": "b5660b1e",
   "metadata": {},
   "outputs": [
    {
     "name": "stdout",
     "output_type": "stream",
     "text": [
      "                            OLS Regression Results                            \n",
      "==============================================================================\n",
      "Dep. Variable:                   AAPL   R-squared:                       0.318\n",
      "Model:                            OLS   Adj. R-squared:                  0.313\n",
      "Method:                 Least Squares   F-statistic:                     61.11\n",
      "Date:                Sun, 12 Feb 2023   Prob (F-statistic):           1.65e-22\n",
      "Time:                        14:42:21   Log-Likelihood:                 274.53\n",
      "No. Observations:                 265   AIC:                            -543.1\n",
      "Df Residuals:                     262   BIC:                            -532.3\n",
      "Df Model:                           2                                         \n",
      "Covariance Type:            nonrobust                                         \n",
      "==============================================================================\n",
      "                 coef    std err          t      P>|t|      [0.025      0.975]\n",
      "------------------------------------------------------------------------------\n",
      "SPY            1.2342      0.114     10.858      0.000       1.010       1.458\n",
      "^FVX          -0.0463      0.037     -1.244      0.215      -0.119       0.027\n",
      "Intercept      0.0217      0.005      4.043      0.000       0.011       0.032\n",
      "==============================================================================\n",
      "Omnibus:                       15.122   Durbin-Watson:                   1.940\n",
      "Prob(Omnibus):                  0.001   Jarque-Bera (JB):               35.999\n",
      "Skew:                           0.172   Prob(JB):                     1.52e-08\n",
      "Kurtosis:                       4.772   Cond. No.                         21.5\n",
      "==============================================================================\n",
      "\n",
      "Notes:\n",
      "[1] Standard Errors assume that the covariance matrix of the errors is correctly specified.\n",
      "                            OLS Regression Results                            \n",
      "==============================================================================\n",
      "Dep. Variable:                    AOS   R-squared:                       0.272\n",
      "Model:                            OLS   Adj. R-squared:                  0.266\n",
      "Method:                 Least Squares   F-statistic:                     48.85\n",
      "Date:                Sun, 12 Feb 2023   Prob (F-statistic):           9.29e-19\n",
      "Time:                        14:42:21   Log-Likelihood:                 311.35\n",
      "No. Observations:                 265   AIC:                            -616.7\n",
      "Df Residuals:                     262   BIC:                            -606.0\n",
      "Df Model:                           2                                         \n",
      "Covariance Type:            nonrobust                                         \n",
      "==============================================================================\n",
      "                 coef    std err          t      P>|t|      [0.025      0.975]\n",
      "------------------------------------------------------------------------------\n",
      "SPY            0.8976      0.099      9.074      0.000       0.703       1.092\n",
      "^FVX           0.0338      0.032      1.044      0.297      -0.030       0.098\n",
      "Intercept      0.0108      0.005      2.305      0.022       0.002       0.020\n",
      "==============================================================================\n",
      "Omnibus:                       10.946   Durbin-Watson:                   2.072\n",
      "Prob(Omnibus):                  0.004   Jarque-Bera (JB):               23.322\n",
      "Skew:                          -0.030   Prob(JB):                     8.62e-06\n",
      "Kurtosis:                       4.452   Cond. No.                         21.5\n",
      "==============================================================================\n",
      "\n",
      "Notes:\n",
      "[1] Standard Errors assume that the covariance matrix of the errors is correctly specified.\n",
      "      B_SPY     B_FVX     Alpha  ResidVol Names\n",
      "0  1.234232 -0.046261  0.021681  0.086034  AAPL\n",
      "1  0.897622  0.033800  0.010757  0.074873   AOS\n"
     ]
    }
   ],
   "source": [
    "modelCoeffs = []\n",
    "for oneStockName in stockNames:\n",
    "  yData = stockReturns[oneStockName]\n",
    "  model = sm.OLS(yData, xData)\n",
    "  result = model .fit()\n",
    "  modelCoeffRow = list(result.params)\n",
    "  modelCoeffRow.append(np.std(result.resid, ddof=1))\n",
    "  modelCoeffs.append(modelCoeffRow)\n",
    "  print(result.summary())\n",
    "modelCoeffs = pd.DataFrame(modelCoeffs)\n",
    "modelCoeffs.columns = ['B_SPY', 'B_FVX', 'Alpha', 'ResidVol']\n",
    "modelCoeffs['Names'] = stockNames\n",
    "print(modelCoeffs)"
   ]
  },
  {
   "cell_type": "code",
   "execution_count": 15,
   "id": "9b0d1f48",
   "metadata": {},
   "outputs": [
    {
     "name": "stdout",
     "output_type": "stream",
     "text": [
      "Systemic Risk\n",
      "0.002697320792201207\n",
      "Idiosyncratic Risk\n",
      "0.003251961848331433\n",
      "Factor Model Total Risk\n",
      "0.00594928264053264\n"
     ]
    }
   ],
   "source": [
    "# Calculate Idiosyncratic and Systemic Risk\n",
    "factorCov = factorReturns[['^FVX', 'SPY']].cov()\n",
    "reconstructedCov = np.dot(np.dot(modelCoeffs[['B_FVX', 'B_SPY']], factorCov), modelCoeffs[['B_FVX', 'B_SPY']].T)\n",
    "systemicRisk = np.dot(np.dot(weights, reconstructedCov), weights.T)\n",
    "print('Systemic Risk')\n",
    "print(systemicRisk)\n",
    "idiosyncraticRisk = sum(modelCoeffs['ResidVol'] * modelCoeffs['ResidVol'] * weights * weights)\n",
    "print('Idiosyncratic Risk')\n",
    "print(idiosyncraticRisk)\n",
    "factorModelTotalRisk = systemicRisk + idiosyncraticRisk\n",
    "print('Factor Model Total Risk')\n",
    "print(factorModelTotalRisk)"
   ]
  },
  {
   "cell_type": "code",
   "execution_count": 16,
   "id": "488f434d",
   "metadata": {},
   "outputs": [],
   "source": [
    "# Scenario based stress testing\n",
    "fvxScenarios = np.arange(min(returns['^FVX']), max(returns['^FVX']), 0.05)\n",
    "spScenarios = np.arange(min(returns['SPY']), max(returns['SPY']), 0.02)\n",
    "\n",
    "scenarios = []\n",
    "for oneFVXValue in fvxScenarios:\n",
    "  for oneSPValue in spScenarios:\n",
    "     oneScenario = [oneFVXValue, oneSPValue]\n",
    "     for oneStockName in stockNames:\n",
    "        alpha = float(modelCoeffs[modelCoeffs['Names'] == oneStockName]['Alpha'])\n",
    "        beta_sp = float(modelCoeffs[modelCoeffs['Names'] == oneStockName]['B_SPY'])\n",
    "        beta_fvx = float(modelCoeffs[modelCoeffs['Names'] == oneStockName]['B_FVX'])\n",
    "        oneStockPredictedReturn = alpha + beta_sp * oneSPValue + beta_fvx * oneFVXValue\n",
    "        oneScenario.append(oneStockPredictedReturn)\n",
    "     scenarios.append(oneScenario)\n",
    "scenarios = pd.DataFrame(scenarios)\n",
    "scenarios.columns = ['^FVX', 'SPY', 'AAPL', 'AOS']\n",
    "scenariosCov = scenarios[stockNames].cov()\n",
    "scenarioTotalRisk = np.dot(np.dot(weights, scenariosCov), weights.T)"
   ]
  },
  {
   "cell_type": "code",
   "execution_count": 17,
   "id": "d6c9090c",
   "metadata": {},
   "outputs": [],
   "source": [
    "# Quantify worst case scenario with VaR\n",
    "confLevel = 0.95\n",
    "principal = 1\n",
    "numMonths = 1"
   ]
  },
  {
   "cell_type": "code",
   "execution_count": 18,
   "id": "6909ebc9",
   "metadata": {},
   "outputs": [
    {
     "name": "stdout",
     "output_type": "stream",
     "text": [
      "Scenario Total Risk VaR\n",
      "0.2576345855446903\n",
      "Historical Total Risk VaR\n",
      "0.17739893301313678\n",
      "Factor Model Total Risk VaR\n",
      "0.17943491742430415\n"
     ]
    }
   ],
   "source": [
    "def calculateVaR(risk, confLevel, principal=1, numMonths=1):\n",
    "  vol = math.sqrt(risk)\n",
    "  return abs(principal*norm.ppf(1-confLevel, 0, 1)*vol*math.sqrt(numMonths))\n",
    "\n",
    "print('Scenario Total Risk VaR')\n",
    "print(calculateVaR(scenarioTotalRisk, 0.99))\n",
    "print('Historical Total Risk VaR')\n",
    "print(calculateVaR(historicalTotalRisk, 0.99))\n",
    "print('Factor Model Total Risk VaR')\n",
    "print(calculateVaR(factorModelTotalRisk, 0.99))"
   ]
  },
  {
   "cell_type": "code",
   "execution_count": null,
   "id": "810e4b8b",
   "metadata": {},
   "outputs": [],
   "source": []
  }
 ],
 "metadata": {
  "kernelspec": {
   "display_name": "Python 3 (ipykernel)",
   "language": "python",
   "name": "python3"
  },
  "language_info": {
   "codemirror_mode": {
    "name": "ipython",
    "version": 3
   },
   "file_extension": ".py",
   "mimetype": "text/x-python",
   "name": "python",
   "nbconvert_exporter": "python",
   "pygments_lexer": "ipython3",
   "version": "3.7.4"
  }
 },
 "nbformat": 4,
 "nbformat_minor": 5
}
